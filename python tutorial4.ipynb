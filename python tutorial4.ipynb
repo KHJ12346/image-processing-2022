{
 "cells": [
  {
   "cell_type": "code",
   "execution_count": 1,
   "metadata": {},
   "outputs": [
    {
     "ename": "NameError",
     "evalue": "name 'X' is not defined",
     "output_type": "error",
     "traceback": [
      "\u001b[1;31m---------------------------------------------------------------------------\u001b[0m",
      "\u001b[1;31mNameError\u001b[0m                                 Traceback (most recent call last)",
      "Cell \u001b[1;32mIn [1], line 1\u001b[0m\n\u001b[1;32m----> 1\u001b[0m \u001b[43mX\u001b[49m \u001b[38;5;241m==\u001b[39m Y\n",
      "\u001b[1;31mNameError\u001b[0m: name 'X' is not defined"
     ]
    }
   ],
   "source": [
    " True and False are constants\n",
    "\n",
    " Other values are treated as equivalent to either\n",
    "True or False when used in conditionals:\n",
    " False: zero, None, empty containers\n",
    " True: non-zero numbers, non-empty objects\n",
    " See PEP 8 for the most Pythonic ways to compare\n",
    "\n",
    " Comparison operators: ==, !=, <, <=, etc.\n",
    " X == Y\n",
    " X and Y have same value (like Java equals method)\n",
    " X is Y :\n",
    " X and Y refer to the exact same object (like Java ==) ## 예시밖에 없어서 실행할 수 없습니다.학습했습니다."
   ]
  },
  {
   "cell_type": "code",
   "execution_count": null,
   "metadata": {},
   "outputs": [],
   "source": [
    "Logical Operators\n",
    " You can also combine Boolean expressions.\n",
    " True if a is True and b is True: a and b\n",
    " True if a is True or b is True: a or b\n",
    " True if a is False: not a              ## 불리안 설명 입니다."
   ]
  },
  {
   "cell_type": "code",
   "execution_count": null,
   "metadata": {},
   "outputs": [],
   "source": [
    "x = true_value if condition else false_value\n",
    "\n",
    " lazy evaluation:\n",
    " First, condition is evaluated\n",
    " If True, true_value is evaluated and returned\n",
    " If False, false_value is evaluated and returned ##설명 이해 했습니다."
   ]
  }
 ],
 "metadata": {
  "kernelspec": {
   "display_name": "Python 3.10.2 64-bit",
   "language": "python",
   "name": "python3"
  },
  "language_info": {
   "codemirror_mode": {
    "name": "ipython",
    "version": 3
   },
   "file_extension": ".py",
   "mimetype": "text/x-python",
   "name": "python",
   "nbconvert_exporter": "python",
   "pygments_lexer": "ipython3",
   "version": "3.10.2"
  },
  "orig_nbformat": 4,
  "vscode": {
   "interpreter": {
    "hash": "369f2c481f4da34e4445cda3fffd2e751bd1c4d706f27375911949ba6bb62e1c"
   }
  }
 },
 "nbformat": 4,
 "nbformat_minor": 2
}
